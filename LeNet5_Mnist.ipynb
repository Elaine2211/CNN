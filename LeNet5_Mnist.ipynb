{
  "nbformat": 4,
  "nbformat_minor": 0,
  "metadata": {
    "colab": {
      "name": "2. LeNet5_Mnist.ipynb",
      "provenance": [],
      "authorship_tag": "ABX9TyMh8v/wIDBX516Q5FWeu7pk",
      "include_colab_link": true
    },
    "kernelspec": {
      "name": "python3",
      "display_name": "Python 3"
    },
    "accelerator": "GPU"
  },
  "cells": [
    {
      "cell_type": "markdown",
      "metadata": {
        "id": "view-in-github",
        "colab_type": "text"
      },
      "source": [
        "<a href=\"https://colab.research.google.com/github/Elaine2211/CNN/blob/master/LeNet5_Mnist.ipynb\" target=\"_parent\"><img src=\"https://colab.research.google.com/assets/colab-badge.svg\" alt=\"Open In Colab\"/></a>"
      ]
    },
    {
      "cell_type": "code",
      "metadata": {
        "id": "owmKbdDXh8T5",
        "colab_type": "code",
        "outputId": "42650c10-3269-49ec-c798-10fab4b5d319",
        "colab": {
          "base_uri": "https://localhost:8080/",
          "height": 80
        }
      },
      "source": [
        "from matplotlib import pyplot\n",
        "from keras.datasets import fashion_mnist\n",
        "from numpy import mean\n",
        "from numpy import std\n",
        "from sklearn.model_selection import KFold\n",
        "from keras.utils import to_categorical\n",
        "from keras.models import Sequential\n",
        "from keras.layers import Conv2D, AveragePooling2D, Dense, Flatten\n",
        "from keras.optimizers import SGD"
      ],
      "execution_count": 0,
      "outputs": [
        {
          "output_type": "stream",
          "text": [
            "Using TensorFlow backend.\n"
          ],
          "name": "stderr"
        },
        {
          "output_type": "display_data",
          "data": {
            "text/html": [
              "<p style=\"color: red;\">\n",
              "The default version of TensorFlow in Colab will soon switch to TensorFlow 2.x.<br>\n",
              "We recommend you <a href=\"https://www.tensorflow.org/guide/migrate\" target=\"_blank\">upgrade</a> now \n",
              "or ensure your notebook will continue to use TensorFlow 1.x via the <code>%tensorflow_version 1.x</code> magic:\n",
              "<a href=\"https://colab.research.google.com/notebooks/tensorflow_version.ipynb\" target=\"_blank\">more info</a>.</p>\n"
            ],
            "text/plain": [
              "<IPython.core.display.HTML object>"
            ]
          },
          "metadata": {
            "tags": []
          }
        }
      ]
    },
    {
      "cell_type": "code",
      "metadata": {
        "id": "AwVuHUUSiO_a",
        "colab_type": "code",
        "outputId": "6a9e91e4-1937-4159-9bd8-09caccadfc46",
        "colab": {
          "base_uri": "https://localhost:8080/",
          "height": 153
        }
      },
      "source": [
        "#load train and test dataset\n",
        "(trainx, trainy),(testx,testy)=fashion_mnist.load_data()\n",
        "#reshape dataset to have a single channel\n",
        "trainx=trainx.reshape((trainx.shape[0],28,28,1))\n",
        "testx=testx.reshape((testx.shape[0],28,28,1))\n",
        "#one hot encode target values\n",
        "trainy=to_categorical(trainy)\n",
        "testy=to_categorical(testy)\n",
        "   "
      ],
      "execution_count": 0,
      "outputs": [
        {
          "output_type": "stream",
          "text": [
            "Downloading data from http://fashion-mnist.s3-website.eu-central-1.amazonaws.com/train-labels-idx1-ubyte.gz\n",
            "32768/29515 [=================================] - 0s 0us/step\n",
            "Downloading data from http://fashion-mnist.s3-website.eu-central-1.amazonaws.com/train-images-idx3-ubyte.gz\n",
            "26427392/26421880 [==============================] - 0s 0us/step\n",
            "Downloading data from http://fashion-mnist.s3-website.eu-central-1.amazonaws.com/t10k-labels-idx1-ubyte.gz\n",
            "8192/5148 [===============================================] - 0s 0us/step\n",
            "Downloading data from http://fashion-mnist.s3-website.eu-central-1.amazonaws.com/t10k-images-idx3-ubyte.gz\n",
            "4423680/4422102 [==============================] - 0s 0us/step\n"
          ],
          "name": "stdout"
        }
      ]
    },
    {
      "cell_type": "code",
      "metadata": {
        "id": "LLuAaHIeiSTV",
        "colab_type": "code",
        "colab": {}
      },
      "source": [
        "\n",
        "#convert from integers to floats      \n",
        "trainx=trainx.astype('float32')\n",
        "testx=testx.astype('float32')\n",
        "#normalize to range 0-1\n",
        "trainx=trainx/255.0\n",
        "testx=testx/255.0\n",
        "#return normalized images\n",
        "    "
      ],
      "execution_count": 0,
      "outputs": []
    },
    {
      "cell_type": "code",
      "metadata": {
        "id": "iL9fRfisiTxP",
        "colab_type": "code",
        "outputId": "322a886c-6f61-418e-b98b-a994c244bb0e",
        "colab": {
          "base_uri": "https://localhost:8080/",
          "height": 105
        }
      },
      "source": [
        "#define LeNet model\n",
        "#Sequential API\n",
        "model=Sequential()\n",
        "#ConV layer1\n",
        "model.add(Conv2D(6,(5,5),padding='valid',activation='tanh',kernel_initializer='he_uniform'))  \n",
        "#Average pooling layer1\n",
        "model.add(AveragePooling2D(pool_size=(2,2),strides=(2,2)))\n",
        "#Conv layer2\n",
        "model.add(Conv2D(16,(5,5),activation='tanh'))\n",
        "#Average Pooling layer2\n",
        "model.add(AveragePooling2D(pool_size=(2,2),strides=(2,2)))\n",
        "model.add(Flatten())\n",
        "#Fully Connected\n",
        "model.add(Dense(120,activation='tanh',kernel_initializer='he_uniform'))  \n",
        "#Fully Connected\n",
        "model.add(Dense(84,activation='tanh'))\n",
        "#Output layer\n",
        "model.add(Dense(10,activation='softmax'))\n",
        "#compile model\n",
        "opt=SGD(lr=0.01,momentum=0.9)\n",
        "model.compile(optimizer=opt, loss='categorical_crossentropy',metrics=['accuracy'])"
      ],
      "execution_count": 0,
      "outputs": [
        {
          "output_type": "stream",
          "text": [
            "WARNING:tensorflow:From /usr/local/lib/python3.6/dist-packages/keras/backend/tensorflow_backend.py:66: The name tf.get_default_graph is deprecated. Please use tf.compat.v1.get_default_graph instead.\n",
            "\n",
            "WARNING:tensorflow:From /usr/local/lib/python3.6/dist-packages/keras/optimizers.py:793: The name tf.train.Optimizer is deprecated. Please use tf.compat.v1.train.Optimizer instead.\n",
            "\n"
          ],
          "name": "stdout"
        }
      ]
    },
    {
      "cell_type": "code",
      "metadata": {
        "id": "wgsid0XPiVvT",
        "colab_type": "code",
        "colab": {}
      },
      "source": [
        "#evaluate a model using k-fold cross_validation\n",
        "def evaluate_model(model,datax,datay,n_folds=5):\n",
        "    scores=list()\n",
        "    #prepare cross validation\n",
        "    kfold=KFold(n_folds, shuffle=True,random_state=1)\n",
        "    #enumerate splits\n",
        "    for train_ix,test_ix in kfold.split(datax):\n",
        "        #select rows for train and test\n",
        "        trainx,trainy,testx,testy=datax[train_ix],datay[train_ix],datax[test_ix],datay[test_ix]\n",
        "        #fit model\n",
        "        model.fit(trainx,trainy,epochs=10,batch_size=32,validation_data=(testx,testy),verbose=0)\n",
        "        #evaluate model\n",
        "        _,acc1=model.evaluate(testx,testy,verbose=0)\n",
        "        print('>%.3f'%(acc1*100.0))\n",
        "        #append scores\n",
        "        scores.append(acc1)\n",
        "        \n",
        "    return scores"
      ],
      "execution_count": 0,
      "outputs": []
    },
    {
      "cell_type": "code",
      "metadata": {
        "id": "pQWWNIDEiXRh",
        "colab_type": "code",
        "colab": {}
      },
      "source": [
        "#Summarize model performance\n",
        "def summarize_performance(scores):\n",
        "    #print summary\n",
        "    print('Accuracy: mean=%.3f std=%.3f, n=%d'% (mean(scores)*100, std(scores)*100, len(scores)))"
      ],
      "execution_count": 0,
      "outputs": []
    },
    {
      "cell_type": "code",
      "metadata": {
        "id": "1JWJotIZiY5F",
        "colab_type": "code",
        "outputId": "64c154a3-8e96-4c0f-f90a-4d36646cc018",
        "colab": {
          "base_uri": "https://localhost:8080/",
          "height": 853
        }
      },
      "source": [
        "model.fit(trainx,trainy,epochs=10,batch_size=12,verbose=1)\n",
        "#evaluate model on test dataset\n",
        "_,acc=model.evaluate(testx,testy,verbose=0)\n",
        "print('>%.3f'%(acc*100.0))"
      ],
      "execution_count": 0,
      "outputs": [
        {
          "output_type": "stream",
          "text": [
            "WARNING:tensorflow:From /usr/local/lib/python3.6/dist-packages/keras/backend/tensorflow_backend.py:541: The name tf.placeholder is deprecated. Please use tf.compat.v1.placeholder instead.\n",
            "\n",
            "WARNING:tensorflow:From /usr/local/lib/python3.6/dist-packages/keras/backend/tensorflow_backend.py:4432: The name tf.random_uniform is deprecated. Please use tf.random.uniform instead.\n",
            "\n",
            "WARNING:tensorflow:From /usr/local/lib/python3.6/dist-packages/keras/backend/tensorflow_backend.py:4271: The name tf.nn.avg_pool is deprecated. Please use tf.nn.avg_pool2d instead.\n",
            "\n",
            "WARNING:tensorflow:From /usr/local/lib/python3.6/dist-packages/keras/backend/tensorflow_backend.py:3576: The name tf.log is deprecated. Please use tf.math.log instead.\n",
            "\n",
            "WARNING:tensorflow:From /usr/local/lib/python3.6/dist-packages/tensorflow_core/python/ops/math_grad.py:1424: where (from tensorflow.python.ops.array_ops) is deprecated and will be removed in a future version.\n",
            "Instructions for updating:\n",
            "Use tf.where in 2.0, which has the same broadcast rule as np.where\n",
            "WARNING:tensorflow:From /usr/local/lib/python3.6/dist-packages/keras/backend/tensorflow_backend.py:1033: The name tf.assign_add is deprecated. Please use tf.compat.v1.assign_add instead.\n",
            "\n",
            "WARNING:tensorflow:From /usr/local/lib/python3.6/dist-packages/keras/backend/tensorflow_backend.py:1020: The name tf.assign is deprecated. Please use tf.compat.v1.assign instead.\n",
            "\n",
            "WARNING:tensorflow:From /usr/local/lib/python3.6/dist-packages/keras/backend/tensorflow_backend.py:3005: The name tf.Session is deprecated. Please use tf.compat.v1.Session instead.\n",
            "\n",
            "Epoch 1/10\n",
            "WARNING:tensorflow:From /usr/local/lib/python3.6/dist-packages/keras/backend/tensorflow_backend.py:190: The name tf.get_default_session is deprecated. Please use tf.compat.v1.get_default_session instead.\n",
            "\n",
            "WARNING:tensorflow:From /usr/local/lib/python3.6/dist-packages/keras/backend/tensorflow_backend.py:197: The name tf.ConfigProto is deprecated. Please use tf.compat.v1.ConfigProto instead.\n",
            "\n",
            "WARNING:tensorflow:From /usr/local/lib/python3.6/dist-packages/keras/backend/tensorflow_backend.py:207: The name tf.global_variables is deprecated. Please use tf.compat.v1.global_variables instead.\n",
            "\n",
            "WARNING:tensorflow:From /usr/local/lib/python3.6/dist-packages/keras/backend/tensorflow_backend.py:216: The name tf.is_variable_initialized is deprecated. Please use tf.compat.v1.is_variable_initialized instead.\n",
            "\n",
            "WARNING:tensorflow:From /usr/local/lib/python3.6/dist-packages/keras/backend/tensorflow_backend.py:223: The name tf.variables_initializer is deprecated. Please use tf.compat.v1.variables_initializer instead.\n",
            "\n",
            "60000/60000 [==============================] - 33s 543us/step - loss: 0.5062 - acc: 0.8115\n",
            "Epoch 2/10\n",
            "60000/60000 [==============================] - 17s 285us/step - loss: 0.3788 - acc: 0.8600\n",
            "Epoch 3/10\n",
            "60000/60000 [==============================] - 18s 293us/step - loss: 0.3383 - acc: 0.8751\n",
            "Epoch 4/10\n",
            "60000/60000 [==============================] - 17s 289us/step - loss: 0.3164 - acc: 0.8822\n",
            "Epoch 5/10\n",
            "60000/60000 [==============================] - 17s 279us/step - loss: 0.2970 - acc: 0.8891\n",
            "Epoch 6/10\n",
            "60000/60000 [==============================] - 17s 290us/step - loss: 0.2829 - acc: 0.8950\n",
            "Epoch 7/10\n",
            "60000/60000 [==============================] - 17s 282us/step - loss: 0.2707 - acc: 0.8994\n",
            "Epoch 8/10\n",
            "60000/60000 [==============================] - 17s 281us/step - loss: 0.2588 - acc: 0.9033\n",
            "Epoch 9/10\n",
            "60000/60000 [==============================] - 17s 280us/step - loss: 0.2461 - acc: 0.9084\n",
            "Epoch 10/10\n",
            "60000/60000 [==============================] - 17s 284us/step - loss: 0.2392 - acc: 0.9110\n",
            ">87.230\n"
          ],
          "name": "stdout"
        }
      ]
    },
    {
      "cell_type": "code",
      "metadata": {
        "id": "TVkWU0-kgcSv",
        "colab_type": "code",
        "outputId": "40949f09-8e45-43f1-a1f2-c4ac4eef1bfc",
        "colab": {
          "base_uri": "https://localhost:8080/",
          "height": 122
        }
      },
      "source": [
        "#Upload image from google drive\n",
        "from google.colab import drive\n",
        "drive.mount('/content/drive')"
      ],
      "execution_count": 0,
      "outputs": [
        {
          "output_type": "stream",
          "text": [
            "Go to this URL in a browser: https://accounts.google.com/o/oauth2/auth?client_id=947318989803-6bn6qk8qdgf4n4g3pfee6491hc0brc4i.apps.googleusercontent.com&redirect_uri=urn%3aietf%3awg%3aoauth%3a2.0%3aoob&response_type=code&scope=email%20https%3a%2f%2fwww.googleapis.com%2fauth%2fdocs.test%20https%3a%2f%2fwww.googleapis.com%2fauth%2fdrive%20https%3a%2f%2fwww.googleapis.com%2fauth%2fdrive.photos.readonly%20https%3a%2f%2fwww.googleapis.com%2fauth%2fpeopleapi.readonly\n",
            "\n",
            "Enter your authorization code:\n",
            "··········\n",
            "Mounted at /content/drive\n"
          ],
          "name": "stdout"
        }
      ]
    },
    {
      "cell_type": "code",
      "metadata": {
        "id": "lXkzPEotiUdh",
        "colab_type": "code",
        "outputId": "c82bdd09-c9d4-45aa-c938-0271b74f477c",
        "colab": {
          "base_uri": "https://localhost:8080/",
          "height": 79
        }
      },
      "source": [
        "from keras.preprocessing.image import load_img,img_to_array\n",
        "file_path = '/content/drive/My Drive/Colab Notebooks/sample_image.png'\n",
        "img = load_img(file_path, grayscale=True, target_size=(28, 28))\n",
        "img"
      ],
      "execution_count": 0,
      "outputs": [
        {
          "output_type": "stream",
          "text": [
            "/usr/local/lib/python3.6/dist-packages/keras_preprocessing/image/utils.py:104: UserWarning: grayscale is deprecated. Please use color_mode = \"grayscale\"\n",
            "  warnings.warn('grayscale is deprecated. Please use '\n"
          ],
          "name": "stderr"
        },
        {
          "output_type": "execute_result",
          "data": {
            "image/png": "[encoded data removed]",
            "text/plain": [
              "<PIL.Image.Image image mode=L size=28x28 at 0x7F8F4FE6C2B0>"
            ]
          },
          "metadata": {
            "tags": []
          },
          "execution_count": 9
        }
      ]
    },
    {
      "cell_type": "markdown",
      "metadata": {
        "id": "ERksirdpip1s",
        "colab_type": "text"
      },
      "source": [
        "Baseline model with 32 filters, no padding, accuracy is 90%\n",
        "Add padding='same', accuracy is 96.222\n",
        "Add to 64 filters, accuracy is 96.797"
      ]
    },
    {
      "cell_type": "code",
      "metadata": {
        "id": "KFA5hRf2lAxP",
        "colab_type": "code",
        "colab": {}
      },
      "source": [
        "img = img_to_array(img)\n",
        "img = img.reshape(1, 28, 28, 1)\n",
        "img = img.astype('float32')\n",
        "img = img / 255.0"
      ],
      "execution_count": 0,
      "outputs": []
    },
    {
      "cell_type": "code",
      "metadata": {
        "id": "m9TZMCeItTRV",
        "colab_type": "code",
        "outputId": "8055272a-feae-4155-b3d8-bc3a6bee543f",
        "colab": {
          "base_uri": "https://localhost:8080/",
          "height": 34
        }
      },
      "source": [
        "#Make a prediction for a new image\n",
        "result = model.predict_classes(img)\n",
        "print(result[0])"
      ],
      "execution_count": 0,
      "outputs": [
        {
          "output_type": "stream",
          "text": [
            "2\n"
          ],
          "name": "stdout"
        }
      ]
    },
    {
      "cell_type": "code",
      "metadata": {
        "id": "Wx7e8tQ0uAGV",
        "colab_type": "code",
        "colab": {}
      },
      "source": [
        "#save model\n",
        "from pydrive.auth import GoogleAuth\n",
        "from pydrive.drive import GoogleDrive \n",
        "from google.colab import auth \n",
        "from oauth2client.client import GoogleCredentials"
      ],
      "execution_count": 0,
      "outputs": []
    },
    {
      "cell_type": "code",
      "metadata": {
        "id": "oqYxNuTGjIxJ",
        "colab_type": "code",
        "colab": {}
      },
      "source": [
        "auth.authenticate_user()\n",
        "gauth = GoogleAuth()\n",
        "gauth.credentials = GoogleCredentials.get_application_default()\n",
        "drive = GoogleDrive(gauth) "
      ],
      "execution_count": 0,
      "outputs": []
    },
    {
      "cell_type": "code",
      "metadata": {
        "id": "22mmAxVQjLJV",
        "colab_type": "code",
        "colab": {}
      },
      "source": [
        "model.save('Lenet_Mnist.h5')\n",
        "model_file = drive.CreateFile({'title' : 'Lenet_Mnist.h5'})\n",
        "model_file.SetContentFile('Lenet_Mnist.h5')\n",
        "model_file.Upload()"
      ],
      "execution_count": 0,
      "outputs": []
    },
    {
      "cell_type": "code",
      "metadata": {
        "id": "ESmn1k_iqJW1",
        "colab_type": "code",
        "colab": {}
      },
      "source": [
        ""
      ],
      "execution_count": 0,
      "outputs": []
    },
    {
      "cell_type": "code",
      "metadata": {
        "id": "tT5Ind4RkBJC",
        "colab_type": "code",
        "colab": {}
      },
      "source": [
        ""
      ],
      "execution_count": 0,
      "outputs": []
    }
  ]
}